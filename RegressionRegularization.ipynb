{
 "cells": [
  {
   "cell_type": "markdown",
   "metadata": {},
   "source": [
    "## Regularization in Regression\n",
    "\n",
    "* **Regularization - is a technique that adds the penalty as model complexity increases.**\n",
    "\n",
    "\n",
    "* When model complexity will increase, it will lead to overfitting.\n",
    "\n",
    "\n",
    "* Overfitting happens when model learns signal as well as noise in the data.\n",
    "\n",
    "\n",
    "* So an overfit model will always perform very well on the training data and underperform on testing / actual data.\n",
    "\n",
    "\n",
    "* In order to create parsimonious (less complex) model, we employ regularization techniques.\n",
    "\n",
    "\n",
    "    1. L1-Regularization or Lasso\n",
    "\n",
    "\n",
    "    2. L2-Regularization or Ridge\n",
    "    \n",
    "    \n",
    "    3. Elasticnet Regularization"
   ]
  },
  {
   "cell_type": "markdown",
   "metadata": {},
   "source": [
    "# Build a regression model which will try to predict unemployment within an economy"
   ]
  },
  {
   "cell_type": "code",
   "execution_count": 1,
   "metadata": {},
   "outputs": [],
   "source": [
    "# import libraries\n",
    "\n",
    "import numpy as np\n",
    "import pandas as pd"
   ]
  },
  {
   "cell_type": "code",
   "execution_count": 2,
   "metadata": {},
   "outputs": [],
   "source": [
    "# import data\n",
    "\n",
    "data=pd.read_csv(\"economics.csv\")"
   ]
  },
  {
   "cell_type": "code",
   "execution_count": 3,
   "metadata": {},
   "outputs": [
    {
     "data": {
      "text/html": [
       "<div>\n",
       "<style scoped>\n",
       "    .dataframe tbody tr th:only-of-type {\n",
       "        vertical-align: middle;\n",
       "    }\n",
       "\n",
       "    .dataframe tbody tr th {\n",
       "        vertical-align: top;\n",
       "    }\n",
       "\n",
       "    .dataframe thead th {\n",
       "        text-align: right;\n",
       "    }\n",
       "</style>\n",
       "<table border=\"1\" class=\"dataframe\">\n",
       "  <thead>\n",
       "    <tr style=\"text-align: right;\">\n",
       "      <th></th>\n",
       "      <th>date</th>\n",
       "      <th>pce</th>\n",
       "      <th>pop</th>\n",
       "      <th>psavert</th>\n",
       "      <th>uempmed</th>\n",
       "      <th>unemploy</th>\n",
       "    </tr>\n",
       "  </thead>\n",
       "  <tbody>\n",
       "    <tr>\n",
       "      <th>0</th>\n",
       "      <td>1967-07-01</td>\n",
       "      <td>507.4</td>\n",
       "      <td>198712</td>\n",
       "      <td>12.5</td>\n",
       "      <td>4.5</td>\n",
       "      <td>2944</td>\n",
       "    </tr>\n",
       "    <tr>\n",
       "      <th>1</th>\n",
       "      <td>1967-08-01</td>\n",
       "      <td>510.5</td>\n",
       "      <td>198911</td>\n",
       "      <td>12.5</td>\n",
       "      <td>4.7</td>\n",
       "      <td>2945</td>\n",
       "    </tr>\n",
       "    <tr>\n",
       "      <th>2</th>\n",
       "      <td>1967-09-01</td>\n",
       "      <td>516.3</td>\n",
       "      <td>199113</td>\n",
       "      <td>11.7</td>\n",
       "      <td>4.6</td>\n",
       "      <td>2958</td>\n",
       "    </tr>\n",
       "    <tr>\n",
       "      <th>3</th>\n",
       "      <td>1967-10-01</td>\n",
       "      <td>512.9</td>\n",
       "      <td>199311</td>\n",
       "      <td>12.5</td>\n",
       "      <td>4.9</td>\n",
       "      <td>3143</td>\n",
       "    </tr>\n",
       "    <tr>\n",
       "      <th>4</th>\n",
       "      <td>1967-11-01</td>\n",
       "      <td>518.1</td>\n",
       "      <td>199498</td>\n",
       "      <td>12.5</td>\n",
       "      <td>4.7</td>\n",
       "      <td>3066</td>\n",
       "    </tr>\n",
       "  </tbody>\n",
       "</table>\n",
       "</div>"
      ],
      "text/plain": [
       "         date    pce     pop  psavert  uempmed  unemploy\n",
       "0  1967-07-01  507.4  198712     12.5      4.5      2944\n",
       "1  1967-08-01  510.5  198911     12.5      4.7      2945\n",
       "2  1967-09-01  516.3  199113     11.7      4.6      2958\n",
       "3  1967-10-01  512.9  199311     12.5      4.9      3143\n",
       "4  1967-11-01  518.1  199498     12.5      4.7      3066"
      ]
     },
     "execution_count": 3,
     "metadata": {},
     "output_type": "execute_result"
    }
   ],
   "source": [
    "data.head()"
   ]
  },
  {
   "cell_type": "code",
   "execution_count": 5,
   "metadata": {},
   "outputs": [
    {
     "name": "stdout",
     "output_type": "stream",
     "text": [
      "<class 'pandas.core.frame.DataFrame'>\n",
      "RangeIndex: 574 entries, 0 to 573\n",
      "Data columns (total 6 columns):\n",
      " #   Column    Non-Null Count  Dtype  \n",
      "---  ------    --------------  -----  \n",
      " 0   date      574 non-null    object \n",
      " 1   pce       574 non-null    float64\n",
      " 2   pop       574 non-null    int64  \n",
      " 3   psavert   574 non-null    float64\n",
      " 4   uempmed   574 non-null    float64\n",
      " 5   unemploy  574 non-null    int64  \n",
      "dtypes: float64(3), int64(2), object(1)\n",
      "memory usage: 27.0+ KB\n"
     ]
    }
   ],
   "source": [
    "data.info()"
   ]
  },
  {
   "cell_type": "code",
   "execution_count": 6,
   "metadata": {},
   "outputs": [
    {
     "data": {
      "text/html": [
       "<div>\n",
       "<style scoped>\n",
       "    .dataframe tbody tr th:only-of-type {\n",
       "        vertical-align: middle;\n",
       "    }\n",
       "\n",
       "    .dataframe tbody tr th {\n",
       "        vertical-align: top;\n",
       "    }\n",
       "\n",
       "    .dataframe thead th {\n",
       "        text-align: right;\n",
       "    }\n",
       "</style>\n",
       "<table border=\"1\" class=\"dataframe\">\n",
       "  <thead>\n",
       "    <tr style=\"text-align: right;\">\n",
       "      <th></th>\n",
       "      <th>count</th>\n",
       "      <th>mean</th>\n",
       "      <th>std</th>\n",
       "      <th>min</th>\n",
       "      <th>25%</th>\n",
       "      <th>50%</th>\n",
       "      <th>75%</th>\n",
       "      <th>max</th>\n",
       "    </tr>\n",
       "  </thead>\n",
       "  <tbody>\n",
       "    <tr>\n",
       "      <th>pce</th>\n",
       "      <td>574.0</td>\n",
       "      <td>4843.510453</td>\n",
       "      <td>3579.287206</td>\n",
       "      <td>507.4</td>\n",
       "      <td>1582.225</td>\n",
       "      <td>3953.55</td>\n",
       "      <td>7667.325</td>\n",
       "      <td>12161.5</td>\n",
       "    </tr>\n",
       "    <tr>\n",
       "      <th>pop</th>\n",
       "      <td>574.0</td>\n",
       "      <td>257189.381533</td>\n",
       "      <td>36730.801593</td>\n",
       "      <td>198712.0</td>\n",
       "      <td>224896.000</td>\n",
       "      <td>253060.00</td>\n",
       "      <td>290290.750</td>\n",
       "      <td>320887.0</td>\n",
       "    </tr>\n",
       "    <tr>\n",
       "      <th>psavert</th>\n",
       "      <td>574.0</td>\n",
       "      <td>7.936585</td>\n",
       "      <td>3.124394</td>\n",
       "      <td>1.9</td>\n",
       "      <td>5.500</td>\n",
       "      <td>7.70</td>\n",
       "      <td>10.500</td>\n",
       "      <td>17.0</td>\n",
       "    </tr>\n",
       "    <tr>\n",
       "      <th>uempmed</th>\n",
       "      <td>574.0</td>\n",
       "      <td>8.610105</td>\n",
       "      <td>4.108112</td>\n",
       "      <td>4.0</td>\n",
       "      <td>6.000</td>\n",
       "      <td>7.50</td>\n",
       "      <td>9.100</td>\n",
       "      <td>25.2</td>\n",
       "    </tr>\n",
       "    <tr>\n",
       "      <th>unemploy</th>\n",
       "      <td>574.0</td>\n",
       "      <td>7771.557491</td>\n",
       "      <td>2641.960571</td>\n",
       "      <td>2685.0</td>\n",
       "      <td>6284.000</td>\n",
       "      <td>7494.00</td>\n",
       "      <td>8691.000</td>\n",
       "      <td>15352.0</td>\n",
       "    </tr>\n",
       "  </tbody>\n",
       "</table>\n",
       "</div>"
      ],
      "text/plain": [
       "          count           mean           std       min         25%        50%  \\\n",
       "pce       574.0    4843.510453   3579.287206     507.4    1582.225    3953.55   \n",
       "pop       574.0  257189.381533  36730.801593  198712.0  224896.000  253060.00   \n",
       "psavert   574.0       7.936585      3.124394       1.9       5.500       7.70   \n",
       "uempmed   574.0       8.610105      4.108112       4.0       6.000       7.50   \n",
       "unemploy  574.0    7771.557491   2641.960571    2685.0    6284.000    7494.00   \n",
       "\n",
       "                 75%       max  \n",
       "pce         7667.325   12161.5  \n",
       "pop       290290.750  320887.0  \n",
       "psavert       10.500      17.0  \n",
       "uempmed        9.100      25.2  \n",
       "unemploy    8691.000   15352.0  "
      ]
     },
     "execution_count": 6,
     "metadata": {},
     "output_type": "execute_result"
    }
   ],
   "source": [
    "data.describe().transpose()"
   ]
  },
  {
   "cell_type": "markdown",
   "metadata": {},
   "source": [
    "### Data Dictionary\n",
    "\n",
    "* psavert - personal saving rate\n",
    "\n",
    "\n",
    "* pce - personal consumption expenditure, USD Billions\n",
    "\n",
    "\n",
    "* uempmed - median duration of unemployment, weeks\n",
    "\n",
    "\n",
    "* unemploy - number of unemployed (thousands)\n",
    "\n",
    "\n",
    "* pop - Population in thousands"
   ]
  },
  {
   "cell_type": "code",
   "execution_count": 8,
   "metadata": {},
   "outputs": [
    {
     "data": {
      "text/plain": [
       "Index(['date', 'pce', 'pop', 'psavert', 'uempmed', 'unemploy'], dtype='object')"
      ]
     },
     "execution_count": 8,
     "metadata": {},
     "output_type": "execute_result"
    }
   ],
   "source": [
    "data.columns"
   ]
  },
  {
   "cell_type": "code",
   "execution_count": 9,
   "metadata": {},
   "outputs": [],
   "source": [
    "target=data['unemploy']\n",
    "features=data[['pce', 'pop', 'psavert', 'uempmed']]"
   ]
  },
  {
   "cell_type": "code",
   "execution_count": 10,
   "metadata": {},
   "outputs": [],
   "source": [
    "features=features/features.max()"
   ]
  },
  {
   "cell_type": "code",
   "execution_count": 11,
   "metadata": {},
   "outputs": [
    {
     "data": {
      "text/html": [
       "<div>\n",
       "<style scoped>\n",
       "    .dataframe tbody tr th:only-of-type {\n",
       "        vertical-align: middle;\n",
       "    }\n",
       "\n",
       "    .dataframe tbody tr th {\n",
       "        vertical-align: top;\n",
       "    }\n",
       "\n",
       "    .dataframe thead th {\n",
       "        text-align: right;\n",
       "    }\n",
       "</style>\n",
       "<table border=\"1\" class=\"dataframe\">\n",
       "  <thead>\n",
       "    <tr style=\"text-align: right;\">\n",
       "      <th></th>\n",
       "      <th>pce</th>\n",
       "      <th>pop</th>\n",
       "      <th>psavert</th>\n",
       "      <th>uempmed</th>\n",
       "    </tr>\n",
       "  </thead>\n",
       "  <tbody>\n",
       "    <tr>\n",
       "      <th>count</th>\n",
       "      <td>574.000000</td>\n",
       "      <td>574.000000</td>\n",
       "      <td>574.000000</td>\n",
       "      <td>574.000000</td>\n",
       "    </tr>\n",
       "    <tr>\n",
       "      <th>mean</th>\n",
       "      <td>0.398266</td>\n",
       "      <td>0.801495</td>\n",
       "      <td>0.466858</td>\n",
       "      <td>0.341671</td>\n",
       "    </tr>\n",
       "    <tr>\n",
       "      <th>std</th>\n",
       "      <td>0.294313</td>\n",
       "      <td>0.114466</td>\n",
       "      <td>0.183788</td>\n",
       "      <td>0.163020</td>\n",
       "    </tr>\n",
       "    <tr>\n",
       "      <th>min</th>\n",
       "      <td>0.041722</td>\n",
       "      <td>0.619258</td>\n",
       "      <td>0.111765</td>\n",
       "      <td>0.158730</td>\n",
       "    </tr>\n",
       "    <tr>\n",
       "      <th>25%</th>\n",
       "      <td>0.130101</td>\n",
       "      <td>0.700857</td>\n",
       "      <td>0.323529</td>\n",
       "      <td>0.238095</td>\n",
       "    </tr>\n",
       "    <tr>\n",
       "      <th>50%</th>\n",
       "      <td>0.325087</td>\n",
       "      <td>0.788627</td>\n",
       "      <td>0.452941</td>\n",
       "      <td>0.297619</td>\n",
       "    </tr>\n",
       "    <tr>\n",
       "      <th>75%</th>\n",
       "      <td>0.630459</td>\n",
       "      <td>0.904651</td>\n",
       "      <td>0.617647</td>\n",
       "      <td>0.361111</td>\n",
       "    </tr>\n",
       "    <tr>\n",
       "      <th>max</th>\n",
       "      <td>1.000000</td>\n",
       "      <td>1.000000</td>\n",
       "      <td>1.000000</td>\n",
       "      <td>1.000000</td>\n",
       "    </tr>\n",
       "  </tbody>\n",
       "</table>\n",
       "</div>"
      ],
      "text/plain": [
       "              pce         pop     psavert     uempmed\n",
       "count  574.000000  574.000000  574.000000  574.000000\n",
       "mean     0.398266    0.801495    0.466858    0.341671\n",
       "std      0.294313    0.114466    0.183788    0.163020\n",
       "min      0.041722    0.619258    0.111765    0.158730\n",
       "25%      0.130101    0.700857    0.323529    0.238095\n",
       "50%      0.325087    0.788627    0.452941    0.297619\n",
       "75%      0.630459    0.904651    0.617647    0.361111\n",
       "max      1.000000    1.000000    1.000000    1.000000"
      ]
     },
     "execution_count": 11,
     "metadata": {},
     "output_type": "execute_result"
    }
   ],
   "source": [
    "features.describe() #standardize data"
   ]
  },
  {
   "cell_type": "code",
   "execution_count": 12,
   "metadata": {},
   "outputs": [],
   "source": [
    "X=features\n",
    "y=target"
   ]
  },
  {
   "cell_type": "code",
   "execution_count": 13,
   "metadata": {},
   "outputs": [],
   "source": [
    "# split the data for training the model\n",
    "\n",
    "from sklearn.model_selection import train_test_split\n",
    "\n",
    "X_train,X_test,y_train,y_test=train_test_split(X,y,test_size=.2,random_state=42)"
   ]
  },
  {
   "cell_type": "code",
   "execution_count": 14,
   "metadata": {},
   "outputs": [],
   "source": [
    "# build regression model\n",
    "\n",
    "from sklearn.linear_model import LinearRegression\n",
    "\n",
    "lm=LinearRegression()"
   ]
  },
  {
   "cell_type": "code",
   "execution_count": 15,
   "metadata": {},
   "outputs": [
    {
     "data": {
      "text/plain": [
       "LinearRegression()"
      ]
     },
     "execution_count": 15,
     "metadata": {},
     "output_type": "execute_result"
    }
   ],
   "source": [
    "lm.fit(X_train,y_train)"
   ]
  },
  {
   "cell_type": "code",
   "execution_count": 16,
   "metadata": {},
   "outputs": [],
   "source": [
    "from sklearn.metrics import mean_absolute_error,mean_squared_error,r2_score"
   ]
  },
  {
   "cell_type": "code",
   "execution_count": 17,
   "metadata": {},
   "outputs": [
    {
     "name": "stdout",
     "output_type": "stream",
     "text": [
      "Training Accuracy\n",
      "RMSE : 985.028574875737\n",
      "R-Squared : 0.8510879906820179\n",
      "\n",
      "\n",
      "Testing Accuracy\n",
      "RMSE : 1001.916307593938\n",
      "R-Squared : 0.8854186379903035\n",
      "\n",
      "\n",
      "Coefficients : [-19146.90350229  56970.37011106   5107.93739571  13551.16810809]\n"
     ]
    }
   ],
   "source": [
    "# Training Accuracy - Accuracy wrt the training data\n",
    "\n",
    "y_pred_train = lm.predict(X_train)\n",
    "\n",
    "print('Training Accuracy')\n",
    "\n",
    "print(f'RMSE : {np.sqrt(mean_squared_error(y_train,y_pred_train))}')\n",
    "print(f'R-Squared : {(r2_score(y_train,y_pred_train))}')\n",
    "\n",
    "\n",
    "# Testing Accuracy - Accuracy wrt the testing data\n",
    "\n",
    "y_pred_test = lm.predict(X_test)\n",
    "\n",
    "print('\\n\\nTesting Accuracy')\n",
    "\n",
    "print(f'RMSE : {np.sqrt(mean_squared_error(y_test,y_pred_test))}')\n",
    "print(f'R-Squared : {(r2_score(y_test,y_pred_test))}')\n",
    "\n",
    "print(f'\\n\\nCoefficients : {lm.coef_}')"
   ]
  },
  {
   "cell_type": "code",
   "execution_count": 18,
   "metadata": {},
   "outputs": [
    {
     "data": {
      "text/plain": [
       "2685"
      ]
     },
     "execution_count": 18,
     "metadata": {},
     "output_type": "execute_result"
    }
   ],
   "source": [
    "data['unemploy'].min()"
   ]
  },
  {
   "cell_type": "code",
   "execution_count": 19,
   "metadata": {},
   "outputs": [],
   "source": [
    "from sklearn.linear_model import Ridge, Lasso, ElasticNet\n"
   ]
  },
  {
   "cell_type": "markdown",
   "metadata": {},
   "source": [
    "#### RIDGE----LOSS FUNCTION = OLS + α (sum of squared coefficient values)\n",
    "\n",
    "##### alpha = smoothing param\n",
    "##### if α = 0, then it becomes simple OLS only\n",
    "##### Low α leads to overfitting\n",
    "##### High α leads to underfitting\n"
   ]
  },
  {
   "cell_type": "code",
   "execution_count": 20,
   "metadata": {},
   "outputs": [],
   "source": [
    "rr=Ridge(alpha=0.01)"
   ]
  },
  {
   "cell_type": "code",
   "execution_count": 21,
   "metadata": {},
   "outputs": [
    {
     "name": "stdout",
     "output_type": "stream",
     "text": [
      "Training Accuracy\n",
      "RMSE : 988.4714111995353\n",
      "R-Squared : 0.8500452277864494\n",
      "\n",
      "\n",
      "Testing Accuracy\n",
      "RMSE : 999.568234828448\n",
      "R-Squared : 0.8859550702424106\n",
      "\n",
      "\n",
      "LM Coefficients : [-19146.90350229  56970.37011106   5107.93739571  13551.16810809]\n",
      "\n",
      "\n",
      "RR Coefficients : [-17406.11927015  51531.47457744   4509.20141652  13654.41294602]\n"
     ]
    }
   ],
   "source": [
    "rr.fit(X_train,y_train)\n",
    "\n",
    "# Training Accuracy - Accuracy wrt the training data\n",
    "\n",
    "y_pred_train = rr.predict(X_train)\n",
    "\n",
    "print('Training Accuracy')\n",
    "\n",
    "print(f'RMSE : {np.sqrt(mean_squared_error(y_train,y_pred_train))}')\n",
    "print(f'R-Squared : {(r2_score(y_train,y_pred_train))}')\n",
    "\n",
    "\n",
    "# Testing Accuracy - Accuracy wrt the testing data\n",
    "\n",
    "y_pred_test = rr.predict(X_test)\n",
    "\n",
    "print('\\n\\nTesting Accuracy')\n",
    "\n",
    "print(f'RMSE : {np.sqrt(mean_squared_error(y_test,y_pred_test))}')\n",
    "print(f'R-Squared : {(r2_score(y_test,y_pred_test))}')\n",
    "\n",
    "print(f'\\n\\nLM Coefficients : {lm.coef_}')\n",
    "print(f'\\n\\nRR Coefficients : {rr.coef_}')"
   ]
  },
  {
   "cell_type": "markdown",
   "metadata": {},
   "source": [
    "### Lasso Regression or L1-Norm\n",
    "\n",
    "* Lasso - Least absolute shrinkage and selection operator\n",
    "\n",
    "\n",
    "**LOSS FUNCTION = OLS + α (absolute values of magnitude of coefficients)**\n"
   ]
  },
  {
   "cell_type": "code",
   "execution_count": 22,
   "metadata": {},
   "outputs": [
    {
     "data": {
      "text/plain": [
       "Lasso(alpha=0.001)"
      ]
     },
     "execution_count": 22,
     "metadata": {},
     "output_type": "execute_result"
    }
   ],
   "source": [
    "lsm = Lasso(alpha=0.001)\n",
    "\n",
    "lsm.fit(X_train,y_train)"
   ]
  },
  {
   "cell_type": "code",
   "execution_count": 23,
   "metadata": {},
   "outputs": [
    {
     "name": "stdout",
     "output_type": "stream",
     "text": [
      "Training Accuracy\n",
      "RMSE : 985.0285793909925\n",
      "R-Squared : 0.8510879893168276\n",
      "\n",
      "\n",
      "Testing Accuracy\n",
      "RMSE : 1001.9110813423041\n",
      "R-Squared : 0.8854198333585475\n",
      "\n",
      "\n",
      "LM Coefficients : [-19146.90350229  56970.37011106   5107.93739571  13551.16810809]\n",
      "\n",
      "\n",
      "RR Coefficients : [-17406.11927015  51531.47457744   4509.20141652  13654.41294602]\n",
      "\n",
      "\n",
      "LSM Coefficients : [-19144.90151453  56964.19811383   5107.24474545  13551.21639753]\n"
     ]
    }
   ],
   "source": [
    "# Training Accuracy - Accuracy wrt the training data\n",
    "\n",
    "y_pred_train = lsm.predict(X_train)\n",
    "\n",
    "print('Training Accuracy')\n",
    "\n",
    "print(f'RMSE : {np.sqrt(mean_squared_error(y_train,y_pred_train))}')\n",
    "print(f'R-Squared : {(r2_score(y_train,y_pred_train))}')\n",
    "\n",
    "\n",
    "# Testing Accuracy - Accuracy wrt the testing data\n",
    "\n",
    "y_pred_test = lsm.predict(X_test)\n",
    "\n",
    "print('\\n\\nTesting Accuracy')\n",
    "\n",
    "print(f'RMSE : {np.sqrt(mean_squared_error(y_test,y_pred_test))}')\n",
    "print(f'R-Squared : {(r2_score(y_test,y_pred_test))}')\n",
    "\n",
    "print(f'\\n\\nLM Coefficients : {lm.coef_}')\n",
    "print(f'\\n\\nRR Coefficients : {rr.coef_}')\n",
    "print(f'\\n\\nLSM Coefficients : {lsm.coef_}')\n"
   ]
  },
  {
   "cell_type": "markdown",
   "metadata": {},
   "source": [
    "### Elasticnet regression\n",
    "\n",
    "Combines both L1 and L2 normalization"
   ]
  },
  {
   "cell_type": "code",
   "execution_count": 24,
   "metadata": {},
   "outputs": [
    {
     "data": {
      "text/plain": [
       "ElasticNet()"
      ]
     },
     "execution_count": 24,
     "metadata": {},
     "output_type": "execute_result"
    }
   ],
   "source": [
    "en = ElasticNet()\n",
    "\n",
    "en.fit(X_train,y_train)"
   ]
  },
  {
   "cell_type": "code",
   "execution_count": 25,
   "metadata": {},
   "outputs": [
    {
     "name": "stdout",
     "output_type": "stream",
     "text": [
      "Training Accuracy\n",
      "RMSE : 2331.4927412156394\n",
      "R-Squared : 0.16574234437779267\n",
      "\n",
      "\n",
      "Testing Accuracy\n",
      "RMSE : 2690.6795263008275\n",
      "R-Squared : 0.17362905746232427\n",
      "\n",
      "\n",
      "LM Coefficients : [-19146.90350229  56970.37011106   5107.93739571  13551.16810809]\n",
      "\n",
      "\n",
      "RR Coefficients : [-17406.11927015  51531.47457744   4509.20141652  13654.41294602]\n",
      "\n",
      "\n",
      "LSM Coefficients : [-19144.90151453  56964.19811383   5107.24474545  13551.21639753]\n",
      "\n",
      "\n",
      "EN Coefficients : [ 697.72334777  284.66132963 -207.46899075  594.21973384]\n"
     ]
    }
   ],
   "source": [
    "# Training Accuracy - Accuracy wrt the training data\n",
    "\n",
    "y_pred_train = en.predict(X_train)\n",
    "\n",
    "print('Training Accuracy')\n",
    "\n",
    "print(f'RMSE : {np.sqrt(mean_squared_error(y_train,y_pred_train))}')\n",
    "print(f'R-Squared : {(r2_score(y_train,y_pred_train))}')\n",
    "\n",
    "\n",
    "# Testing Accuracy - Accuracy wrt the testing data\n",
    "\n",
    "y_pred_test = en.predict(X_test)\n",
    "\n",
    "print('\\n\\nTesting Accuracy')\n",
    "\n",
    "print(f'RMSE : {np.sqrt(mean_squared_error(y_test,y_pred_test))}')\n",
    "print(f'R-Squared : {(r2_score(y_test,y_pred_test))}')\n",
    "\n",
    "print(f'\\n\\nLM Coefficients : {lm.coef_}')\n",
    "print(f'\\n\\nRR Coefficients : {rr.coef_}')\n",
    "print(f'\\n\\nLSM Coefficients : {lsm.coef_}')\n",
    "print(f'\\n\\nEN Coefficients : {en.coef_}')\n"
   ]
  },
  {
   "cell_type": "code",
   "execution_count": null,
   "metadata": {},
   "outputs": [],
   "source": []
  }
 ],
 "metadata": {
  "kernelspec": {
   "display_name": "Python 3",
   "language": "python",
   "name": "python3"
  },
  "language_info": {
   "codemirror_mode": {
    "name": "ipython",
    "version": 3
   },
   "file_extension": ".py",
   "mimetype": "text/x-python",
   "name": "python",
   "nbconvert_exporter": "python",
   "pygments_lexer": "ipython3",
   "version": "3.8.3"
  }
 },
 "nbformat": 4,
 "nbformat_minor": 4
}
